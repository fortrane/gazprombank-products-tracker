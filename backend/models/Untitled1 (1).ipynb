{
  "nbformat": 4,
  "nbformat_minor": 0,
  "metadata": {
    "colab": {
      "provenance": [],
      "gpuType": "T4"
    },
    "kernelspec": {
      "name": "python3",
      "display_name": "Python 3"
    },
    "language_info": {
      "name": "python"
    },
    "accelerator": "GPU"
  },
  "cells": [
    {
      "cell_type": "code",
      "execution_count": 3,
      "metadata": {
        "id": "kfxDZZFr86hR"
      },
      "outputs": [],
      "source": [
        "topics = [\n",
        "    \"Дебетовые карты\",\n",
        "    \"Кредитные карты\",\n",
        "    \"Акции и бонусы\",\n",
        "    \"Кредиты наличными\",\n",
        "    \"Вклады\",\n",
        "    \"Ипотека\",\n",
        "    \"Автокредиты\",\n",
        "    \"Рефинансирование кредитов\",\n",
        "    \"Рефинансирование ипотеки\",\n",
        "    \"Обмен валют\",\n",
        "    \"Условия\",\n",
        "    \"Денежные переводы\",\n",
        "    \"Мобильное приложение\",\n",
        "    \"РКО\",\n",
        "    \"Эквайринг\",\n",
        "    \"Обслуживание\",\n",
        "    \"Дистанционное обслуживание\",\n",
        "    \"Техподдержка и чат\",\n",
        "    \"Другие услуги\"\n",
        "]\n"
      ]
    },
    {
      "cell_type": "code",
      "source": [
        "import torch\n",
        "import torch.nn as nn\n",
        "from torch.utils.data import Dataset, DataLoader\n",
        "from sentence_transformers import SentenceTransformer\n",
        "import json\n",
        "\n",
        "# Список всех возможных тем\n",
        "topics = [\n",
        "    \"Дебетовые карты\",\n",
        "    \"Кредитные карты\",\n",
        "    \"Акции и бонусы\",\n",
        "    \"Кредиты наличными\",\n",
        "    \"Вклады\",\n",
        "    \"Ипотека\",\n",
        "    \"Автокредиты\",\n",
        "    \"Рефинансирование кредитов\",\n",
        "    \"Рефинансирование ипотеки\",\n",
        "    \"Обмен валют\",\n",
        "    \"Условия\",\n",
        "    \"Денежные переводы\",\n",
        "    \"Мобильное приложение\",\n",
        "    \"РКО\",\n",
        "    \"Эквайринг\",\n",
        "    \"Обслуживание\",\n",
        "    \"Дистанционное обслуживание\",\n",
        "    \"Техподдержка и чат\",\n",
        "    \"Другие услуги\"\n",
        "]\n"
      ],
      "metadata": {
        "id": "ro6eSMI_9Cco"
      },
      "execution_count": 4,
      "outputs": []
    },
    {
      "cell_type": "code",
      "source": [
        "class ReviewDataset(Dataset):\n",
        "    def __init__(self, data, topics, device):\n",
        "        self.topics = topics\n",
        "        self.embedder = SentenceTransformer(\"distiluse-base-multilingual-cased-v1\")\n",
        "        self.device = device\n",
        "        self.data = [item for item in data if len(item[\"topics_found\"]) > 0]\n",
        "\n",
        "    def __len__(self):\n",
        "        return len(self.data)\n",
        "\n",
        "    def __getitem__(self, idx):\n",
        "        item = self.data[idx]\n",
        "        text = item[\"original_text\"]\n",
        "        labels = [1 if t in item[\"topics_found\"] else 0 for t in self.topics]\n",
        "        emb = self.embedder.encode(text)  # numpy\n",
        "        emb = torch.tensor(emb, dtype=torch.float).to(self.device)\n",
        "        return emb, torch.tensor(labels, dtype=torch.float).to(self.device)\n"
      ],
      "metadata": {
        "id": "VX7ltTZp9y5-"
      },
      "execution_count": 5,
      "outputs": []
    },
    {
      "cell_type": "code",
      "source": [
        "\n",
        "# ---- Classifier ----\n",
        "class Classifier(nn.Module):\n",
        "    def __init__(self, embed_dim, num_labels):\n",
        "        super().__init__()\n",
        "        self.fc1 = nn.Linear(embed_dim, 128)\n",
        "        self.relu = nn.ReLU()\n",
        "        self.fc2 = nn.Linear(128, num_labels)\n",
        "\n",
        "    def forward(self, x):\n",
        "        x = self.fc1(x)\n",
        "        x = self.relu(x)\n",
        "        return self.fc2(x)  # BCEWithLogitsLoss\n"
      ],
      "metadata": {
        "id": "l7-OMsdq9HF-"
      },
      "execution_count": 6,
      "outputs": []
    },
    {
      "cell_type": "code",
      "source": [
        "def train(model, dataloader, epochs=5):\n",
        "    optimizer = torch.optim.Adam(model.parameters(), lr=1e-3)\n",
        "    criterion = nn.BCEWithLogitsLoss()\n",
        "\n",
        "    for epoch in range(epochs):\n",
        "        total_loss = 0\n",
        "        for emb, labels in dataloader:\n",
        "            optimizer.zero_grad()\n",
        "            outputs = model(emb)\n",
        "            loss = criterion(outputs, labels)\n",
        "            loss.backward()\n",
        "            optimizer.step()\n",
        "            total_loss += loss.item()\n",
        "        print(f\"Epoch {epoch+1}, Loss: {total_loss/len(dataloader):.4f}\")\n"
      ],
      "metadata": {
        "id": "02lMAwWu9TGy"
      },
      "execution_count": 7,
      "outputs": []
    },
    {
      "cell_type": "code",
      "source": [
        "# 1. Определяем устройство\n",
        "device = torch.device(\"cuda\" if torch.cuda.is_available() else \"cpu\")\n",
        "print(\"Using device:\", device)\n",
        "\n",
        "# 2. Загружаем JSON\n",
        "files = [\"/content/data.json\", \"/content/data2.json\"]\n",
        "\n",
        "# 2. Загружаем и объединяем все данные\n",
        "all_data = []\n",
        "for file in files:\n",
        "    with open(file, \"r\", encoding=\"utf-8\") as f:\n",
        "        data = json.load(f)\n",
        "        all_data.extend(data)  # добавляем все элементы\n",
        "\n",
        "print(f\"Всего отзывов для обучения: {len(all_data)}\")\n",
        "# 3. Датасет + DataLoader\n",
        "dataset = ReviewDataset(all_data, topics, device)\n",
        "dataloader = DataLoader(dataset, batch_size=8, shuffle=True)\n"
      ],
      "metadata": {
        "colab": {
          "base_uri": "https://localhost:8080/"
        },
        "id": "PHZbNXtmQ8Pm",
        "outputId": "0ebf4833-bc88-4927-daf4-e22512f9039d"
      },
      "execution_count": 8,
      "outputs": [
        {
          "output_type": "stream",
          "name": "stdout",
          "text": [
            "Using device: cuda\n",
            "Всего отзывов для обучения: 3225\n"
          ]
        },
        {
          "output_type": "stream",
          "name": "stderr",
          "text": [
            "/usr/local/lib/python3.12/dist-packages/huggingface_hub/utils/_auth.py:94: UserWarning: \n",
            "The secret `HF_TOKEN` does not exist in your Colab secrets.\n",
            "To authenticate with the Hugging Face Hub, create a token in your settings tab (https://huggingface.co/settings/tokens), set it as secret in your Google Colab and restart your session.\n",
            "You will be able to reuse this secret in all of your notebooks.\n",
            "Please note that authentication is recommended but still optional to access public models or datasets.\n",
            "  warnings.warn(\n"
          ]
        }
      ]
    },
    {
      "cell_type": "code",
      "source": [
        "model = Classifier(embed_dim=512, num_labels=len(topics)).to(device)\n"
      ],
      "metadata": {
        "id": "rdq8-utRRRol"
      },
      "execution_count": 11,
      "outputs": []
    },
    {
      "cell_type": "code",
      "source": [
        "\n",
        "# 4. Модель\n",
        "\n",
        "# 5. Обучение\n",
        "train(model, dataloader, epochs=50)\n"
      ],
      "metadata": {
        "colab": {
          "base_uri": "https://localhost:8080/"
        },
        "id": "-FL8jGWZ9Ujk",
        "outputId": "3cce4c8c-cb7c-4dff-df5c-d641b907203e"
      },
      "execution_count": 38,
      "outputs": [
        {
          "output_type": "stream",
          "name": "stdout",
          "text": [
            "Using device: cuda\n",
            "Всего отзывов для обучения: 3225\n",
            "Epoch 1, Loss: 0.3249\n",
            "Epoch 2, Loss: 0.2575\n",
            "Epoch 3, Loss: 0.2322\n",
            "Epoch 4, Loss: 0.2174\n",
            "Epoch 5, Loss: 0.2074\n",
            "Epoch 6, Loss: 0.1994\n",
            "Epoch 7, Loss: 0.1930\n",
            "Epoch 8, Loss: 0.1875\n",
            "Epoch 9, Loss: 0.1826\n",
            "Epoch 10, Loss: 0.1780\n",
            "Epoch 11, Loss: 0.1740\n",
            "Epoch 12, Loss: 0.1706\n",
            "Epoch 13, Loss: 0.1672\n",
            "Epoch 14, Loss: 0.1643\n",
            "Epoch 15, Loss: 0.1616\n",
            "Epoch 16, Loss: 0.1586\n",
            "Epoch 17, Loss: 0.1563\n",
            "Epoch 18, Loss: 0.1541\n",
            "Epoch 19, Loss: 0.1518\n",
            "Epoch 20, Loss: 0.1495\n",
            "Epoch 21, Loss: 0.1472\n",
            "Epoch 22, Loss: 0.1455\n",
            "Epoch 23, Loss: 0.1434\n",
            "Epoch 24, Loss: 0.1411\n",
            "Epoch 25, Loss: 0.1395\n",
            "Epoch 26, Loss: 0.1378\n",
            "Epoch 27, Loss: 0.1355\n",
            "Epoch 28, Loss: 0.1338\n",
            "Epoch 29, Loss: 0.1320\n",
            "Epoch 30, Loss: 0.1302\n",
            "Epoch 31, Loss: 0.1287\n",
            "Epoch 32, Loss: 0.1269\n",
            "Epoch 33, Loss: 0.1248\n",
            "Epoch 34, Loss: 0.1232\n",
            "Epoch 35, Loss: 0.1215\n",
            "Epoch 36, Loss: 0.1198\n",
            "Epoch 37, Loss: 0.1183\n",
            "Epoch 38, Loss: 0.1165\n",
            "Epoch 39, Loss: 0.1147\n",
            "Epoch 40, Loss: 0.1129\n",
            "Epoch 41, Loss: 0.1116\n",
            "Epoch 42, Loss: 0.1099\n",
            "Epoch 43, Loss: 0.1086\n",
            "Epoch 44, Loss: 0.1072\n",
            "Epoch 45, Loss: 0.1051\n",
            "Epoch 46, Loss: 0.1037\n",
            "Epoch 47, Loss: 0.1022\n",
            "Epoch 48, Loss: 0.1006\n",
            "Epoch 49, Loss: 0.0992\n",
            "Epoch 50, Loss: 0.0977\n"
          ]
        }
      ]
    },
    {
      "cell_type": "code",
      "source": [
        "import torch\n",
        "import torch.nn as nn\n",
        "from torch.utils.data import DataLoader, random_split\n",
        "import json\n",
        "\n",
        "# ---- Classifier с Dropout ----\n",
        "class Classifier(nn.Module):\n",
        "    def __init__(self, embed_dim, num_labels):\n",
        "        super().__init__()\n",
        "        self.fc1 = nn.Linear(embed_dim, 128)\n",
        "        self.relu = nn.ReLU()\n",
        "        self.dropout = nn.Dropout(0.3)  # Dropout 30%\n",
        "        self.fc2 = nn.Linear(128, num_labels)\n",
        "\n",
        "    def forward(self, x):\n",
        "        x = self.fc1(x)\n",
        "        x = self.relu(x)\n",
        "        x = self.dropout(x)\n",
        "        return self.fc2(x)  # BCEWithLogitsLoss\n",
        "\n",
        "# ---- Функция тренировки с валидацией и ранней остановкой ----\n",
        "def train(model, train_loader, val_loader, epochs=50, patience=5):\n",
        "    optimizer = torch.optim.Adam(model.parameters(), lr=1e-3, weight_decay=1e-5)  # weight_decay для регуляризации\n",
        "    criterion = nn.BCEWithLogitsLoss()\n",
        "\n",
        "    best_val_loss = float('inf')\n",
        "    counter = 0\n",
        "\n",
        "    for epoch in range(epochs):\n",
        "        # --- Тренировка ---\n",
        "        model.train()\n",
        "        total_loss = 0\n",
        "        for emb, labels in train_loader:\n",
        "            optimizer.zero_grad()\n",
        "            outputs = model(emb)\n",
        "            loss = criterion(outputs, labels)\n",
        "            loss.backward()\n",
        "            optimizer.step()\n",
        "            total_loss += loss.item()\n",
        "        avg_train_loss = total_loss / len(train_loader)\n",
        "\n",
        "        # --- Валидация ---\n",
        "        model.eval()\n",
        "        val_loss = 0\n",
        "        with torch.no_grad():\n",
        "            for emb, labels in val_loader:\n",
        "                outputs = model(emb)\n",
        "                loss = criterion(outputs, labels)\n",
        "                val_loss += loss.item()\n",
        "        avg_val_loss = val_loss / len(val_loader)\n",
        "\n",
        "        print(f\"Epoch {epoch+1}: Train Loss = {avg_train_loss:.4f}, Val Loss = {avg_val_loss:.4f}\")\n",
        "\n",
        "        # --- Ранняя остановка ---\n",
        "        if avg_val_loss < best_val_loss:\n",
        "            best_val_loss = avg_val_loss\n",
        "            counter = 0\n",
        "            torch.save(model.state_dict(), \"best_model.pt\")  # сохраняем лучшую модель\n",
        "        else:\n",
        "            counter += 1\n",
        "            if counter >= patience:\n",
        "                print(\"Ранняя остановка!\")\n",
        "                break\n",
        "\n",
        "# ---- Устройство ----\n",
        "device = torch.device(\"cuda\" if torch.cuda.is_available() else \"cpu\")\n",
        "print(\"Using device:\", device)"
      ],
      "metadata": {
        "colab": {
          "base_uri": "https://localhost:8080/"
        },
        "id": "SYXmgvtdQheD",
        "outputId": "a111a137-4e4b-435e-d27f-132b1eab3e66"
      },
      "execution_count": 17,
      "outputs": [
        {
          "output_type": "stream",
          "name": "stdout",
          "text": [
            "Using device: cuda\n"
          ]
        }
      ]
    },
    {
      "cell_type": "code",
      "source": [
        "# 1. Создаем объект модели с теми же параметрами\n",
        "model = Classifier(embed_dim=512, num_labels=len(topics)).to(device)\n",
        "\n",
        "# 2. Загружаем веса\n",
        "model.load_state_dict(torch.load(\"model3.pth\", map_location=device))\n",
        "\n",
        "# 3. Переводим в режим оценки (если инференс)\n",
        "model.eval()"
      ],
      "metadata": {
        "colab": {
          "base_uri": "https://localhost:8080/"
        },
        "id": "x28KWeWmOtX-",
        "outputId": "31c26ddd-a10d-439e-f055-bfe23af72270"
      },
      "execution_count": 47,
      "outputs": [
        {
          "output_type": "execute_result",
          "data": {
            "text/plain": [
              "Classifier(\n",
              "  (fc1): Linear(in_features=512, out_features=128, bias=True)\n",
              "  (relu): ReLU()\n",
              "  (fc2): Linear(in_features=128, out_features=19, bias=True)\n",
              ")"
            ]
          },
          "metadata": {},
          "execution_count": 47
        }
      ]
    },
    {
      "cell_type": "code",
      "source": [
        "def predict(model, text, topics, threshold=0.5):\n",
        "    embedder = SentenceTransformer(\"distiluse-base-multilingual-cased-v1\")\n",
        "    emb = embedder.encode([text])\n",
        "    emb = torch.tensor(emb, dtype=torch.float).to(device)\n",
        "    with torch.no_grad():\n",
        "        logits = model(emb)\n",
        "        probs = torch.sigmoid(logits).cpu().numpy()[0]\n",
        "    found = [t for t, p in zip(topics, probs) if p > threshold]\n",
        "    return found\n"
      ],
      "metadata": {
        "id": "hfnFTLOD-oYU"
      },
      "execution_count": 48,
      "outputs": []
    },
    {
      "cell_type": "code",
      "source": [
        "sample_text = \"Рекомендовал другу дебетовую карту, а вознаграждение так и не получил.\"\n",
        "print(predict(model, sample_text, topics))"
      ],
      "metadata": {
        "colab": {
          "base_uri": "https://localhost:8080/"
        },
        "id": "ZB3ABmGc-srf",
        "outputId": "532508dd-c941-4ff9-98a1-a00ba97a159b"
      },
      "execution_count": 49,
      "outputs": [
        {
          "output_type": "stream",
          "name": "stdout",
          "text": [
            "['Дебетовые карты', 'Акции и бонусы']\n"
          ]
        }
      ]
    },
    {
      "cell_type": "code",
      "source": [],
      "metadata": {
        "id": "w5c1IzUNOscF"
      },
      "execution_count": null,
      "outputs": []
    },
    {
      "cell_type": "code",
      "source": [
        "!pip install razdel\n"
      ],
      "metadata": {
        "colab": {
          "base_uri": "https://localhost:8080/"
        },
        "id": "vh8OA_Zo_RfD",
        "outputId": "73ef672c-1799-4635-8b3d-75131faa9f32"
      },
      "execution_count": 18,
      "outputs": [
        {
          "output_type": "stream",
          "name": "stdout",
          "text": [
            "Collecting razdel\n",
            "  Downloading razdel-0.5.0-py3-none-any.whl.metadata (10.0 kB)\n",
            "Downloading razdel-0.5.0-py3-none-any.whl (21 kB)\n",
            "Installing collected packages: razdel\n",
            "Successfully installed razdel-0.5.0\n"
          ]
        }
      ]
    },
    {
      "cell_type": "code",
      "source": [
        "from razdel import sentenize\n",
        "\n",
        "from collections import defaultdict\n",
        "\n",
        "def analyze_review(model, review_id, text, topics, threshold=0.5):\n",
        "    # Разбиваем на предложения\n",
        "    sentences = [s.text for s in sentenize(text)]\n",
        "\n",
        "    # Словарь для фрагментов\n",
        "    topic_fragments = defaultdict(list)\n",
        "\n",
        "    # Для каждого предложения определяем темы\n",
        "    for sent in sentences:\n",
        "        found = predict(model, sent, topics, threshold)\n",
        "        for topic in found:\n",
        "            topic_fragments[topic].append(sent)\n",
        "\n",
        "    # Список всех найденных тем\n",
        "    topics_found = list(topic_fragments.keys())\n",
        "\n",
        "    # Преобразуем defaultdict в обычный dict с нужной структурой\n",
        "    topic_fragments_dict = {}\n",
        "    for topic, frags in topic_fragments.items():\n",
        "        topic_fragments_dict[topic] = {\"fragments\": frags}\n",
        "\n",
        "    # Собираем JSON\n",
        "    result = {\n",
        "        \"review_id\": review_id,\n",
        "        \"original_text\": text,\n",
        "        \"sentences\": sentences,\n",
        "        \"topics_found\": topics_found,\n",
        "        \"topic_fragments\": topic_fragments_dict\n",
        "    }\n",
        "\n",
        "    return result\n"
      ],
      "metadata": {
        "id": "haMz9Iqe_M6W"
      },
      "execution_count": 29,
      "outputs": []
    },
    {
      "cell_type": "code",
      "source": [
        "sample_review = \"Мобилка ужасное. Постоянно вылетает, авторизация срабатывает через раз, а переводы иногда вообще зависают. Пользоваться невозможно, нервы трепет.\"\n",
        "review_json = analyze_review(model, review_id=1, text=sample_review, topics=topics)\n",
        "print(json.dumps(review_json, ensure_ascii=False, indent=2))"
      ],
      "metadata": {
        "colab": {
          "base_uri": "https://localhost:8080/"
        },
        "id": "mDfu88Rw_W5S",
        "outputId": "fb5bc653-8875-4cd8-9bbc-678ee3d860ba"
      },
      "execution_count": 51,
      "outputs": [
        {
          "output_type": "stream",
          "name": "stdout",
          "text": [
            "{\n",
            "  \"review_id\": 1,\n",
            "  \"original_text\": \"Мобилка ужасное. Постоянно вылетает, авторизация срабатывает через раз, а переводы иногда вообще зависают. Пользоваться невозможно, нервы трепет.\",\n",
            "  \"sentences\": [\n",
            "    \"Мобилка ужасное.\",\n",
            "    \"Постоянно вылетает, авторизация срабатывает через раз, а переводы иногда вообще зависают.\",\n",
            "    \"Пользоваться невозможно, нервы трепет.\"\n",
            "  ],\n",
            "  \"topics_found\": [\n",
            "    \"Денежные переводы\",\n",
            "    \"Мобильное приложение\"\n",
            "  ],\n",
            "  \"topic_fragments\": {\n",
            "    \"Денежные переводы\": {\n",
            "      \"fragments\": [\n",
            "        \"Мобилка ужасное.\",\n",
            "        \"Постоянно вылетает, авторизация срабатывает через раз, а переводы иногда вообще зависают.\",\n",
            "        \"Пользоваться невозможно, нервы трепет.\"\n",
            "      ]\n",
            "    },\n",
            "    \"Мобильное приложение\": {\n",
            "      \"fragments\": [\n",
            "        \"Пользоваться невозможно, нервы трепет.\"\n",
            "      ]\n",
            "    }\n",
            "  }\n",
            "}\n"
          ]
        }
      ]
    },
    {
      "cell_type": "code",
      "source": [
        "# Сохраняем только веса модели\n",
        "torch.save(model.state_dict(), \"/content/model3.pth\")\n",
        "print(\"Модель сохранена в model.pth\")\n"
      ],
      "metadata": {
        "colab": {
          "base_uri": "https://localhost:8080/"
        },
        "id": "0sDzGQsSGDDd",
        "outputId": "83a5cdfa-28bc-4201-fc87-2095d9349506"
      },
      "execution_count": 44,
      "outputs": [
        {
          "output_type": "stream",
          "name": "stdout",
          "text": [
            "Модель сохранена в model.pth\n"
          ]
        }
      ]
    }
  ]
}